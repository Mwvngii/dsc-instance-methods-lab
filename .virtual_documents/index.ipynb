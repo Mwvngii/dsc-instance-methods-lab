

















# Define Driver class here
class Driver:
    def greeting(self):
        return "Hey how are you?"
    def ask_for_destination(self):
        return "Where would you like to go today?"





# Define Passenger class here 
class Passenger:
    def reply_greeting(self):
        return "I am doing well!"
    def in_a_hurry(self):
        return "Punch it! They're on our tail!"





daniel = Driver() # driver
niky = Passenger() # passenger





polite_greeting = daniel.greeting()
print(polite_greeting)


no_time_to_talk = niky.in_a_hurry()
print(no_time_to_talk)





# Create Lion class
class Lion:
    def speak(self):
        return "Roarssss!"


# Create Tiger class
class Tiger:
    def speak(self):
        return "Yawwnn!"


# Create Elephant class
class Elephant:
    def speak(self):
        return "Blows the Trumpet!"





simba = Lion()
tony = Tiger()
dumbo = Elephant()





zoo = [simba ,tony, dumbo]





for animal in zoo:
    print(animal.speak())



